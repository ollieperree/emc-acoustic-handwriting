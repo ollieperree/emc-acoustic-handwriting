{
 "cells": [
  {
   "cell_type": "markdown",
   "metadata": {},
   "source": [
    "# Data Preprocessing for Digit Recordings\n",
    "\n",
    "Volunteers were shown digits on a LibreOffice Impress presentation, and instructed to write each digit anywhere on a sheet of paper using a pencil. Each digit is shown for 2 seconds before the next digit was displayed, and the digits were not displayed sequentially, so that volunteers could not anticipate the next digit. "
   ]
  },
  {
   "cell_type": "code",
   "execution_count": null,
   "metadata": {
    "ExecuteTime": {
     "end_time": "2019-07-14T18:40:33.361900Z",
     "start_time": "2019-07-14T18:40:31.016804Z"
    }
   },
   "outputs": [],
   "source": [
    "%matplotlib inline\n",
    "from pathlib import Path\n",
    "import librosa\n",
    "from librosa import display\n",
    "import IPython.display\n",
    "import numpy as np\n",
    "import pandas as pd\n",
    "from tqdm import tqdm_notebook as tqdm\n",
    "import sox"
   ]
  },
  {
   "cell_type": "code",
   "execution_count": null,
   "metadata": {
    "ExecuteTime": {
     "end_time": "2019-07-14T18:49:47.778219Z",
     "start_time": "2019-07-14T18:49:47.771713Z"
    }
   },
   "outputs": [],
   "source": [
    "# Path to data directory and recordings directory\n",
    "DATA = Path(\"../../data/\")\n",
    "RECORDINGS = DATA/\"audio-recordings\""
   ]
  },
  {
   "cell_type": "code",
   "execution_count": null,
   "metadata": {},
   "outputs": [],
   "source": [
    "# The order of the digits in the recordings:\n",
    "DIGITS_ORDER = \"70345120789641253610648928573961203754901285394867\""
   ]
  },
  {
   "cell_type": "markdown",
   "metadata": {},
   "source": [
    "The `writers.csv` file contains the filenames of all the recordings, along with the author ID (and names at present, though these will be removed for privacy). Author ID is the author."
   ]
  },
  {
   "cell_type": "code",
   "execution_count": null,
   "metadata": {
    "scrolled": true
   },
   "outputs": [],
   "source": [
    "writers = pd.read_csv(DATA/\"writers.csv\")\n",
    "writers.head()"
   ]
  },
  {
   "cell_type": "code",
   "execution_count": null,
   "metadata": {},
   "outputs": [],
   "source": [
    "def play_file(filename):\n",
    "    filename = str(filename)\n",
    "    return IPython.display.Audio(filename)"
   ]
  },
  {
   "cell_type": "code",
   "execution_count": null,
   "metadata": {},
   "outputs": [],
   "source": [
    "play_file(RECORDINGS/writers[\"filename\"][0])"
   ]
  },
  {
   "cell_type": "code",
   "execution_count": null,
   "metadata": {
    "ExecuteTime": {
     "end_time": "2019-07-14T18:51:45.821515Z",
     "start_time": "2019-07-14T18:51:45.817730Z"
    }
   },
   "outputs": [],
   "source": [
    "def load_wav(filename):\n",
    "    return librosa.core.load(filename, sr=None, mono=True)"
   ]
  },
  {
   "cell_type": "code",
   "execution_count": null,
   "metadata": {},
   "outputs": [],
   "source": [
    "data, sr = load_wav(RECORDINGS/writers[\"filename\"][1])\n",
    "IPython.display.Audio(data, rate=sr)"
   ]
  },
  {
   "cell_type": "markdown",
   "metadata": {},
   "source": [
    "## Automatically detecting beeps\n",
    "\n",
    "1. Apply a band pass filter at the frequency of the beep - NOTE: this doesn't actually happen due to a bug.\n",
    "2. Assuming that the first and last beeps happen in the first and last 5 seconds respectively, using librosa's onset detector to get the times of the beeps\n"
   ]
  },
  {
   "cell_type": "code",
   "execution_count": null,
   "metadata": {},
   "outputs": [],
   "source": [
    "# The period is just from looking at the waveform in audacity\n",
    "period = 0.00134 - 0.00075\n",
    "print(f\"Frequency = {1 / period}Hz\")"
   ]
  },
  {
   "cell_type": "code",
   "execution_count": null,
   "metadata": {},
   "outputs": [],
   "source": [
    "tfm = sox.Transformer()\n",
    "tfm.bandpass(1695)"
   ]
  },
  {
   "cell_type": "code",
   "execution_count": null,
   "metadata": {
    "ExecuteTime": {
     "end_time": "2019-07-14T19:22:48.605600Z",
     "start_time": "2019-07-14T19:22:48.595861Z"
    }
   },
   "outputs": [],
   "source": [
    "def get_beep_times(data, sr, begin_window=5, end_window=5, delta=0.8):  # for delta, so far 0.6 to 0.8 seem to work.\n",
    "    recording_duration = len(data) / sr\n",
    "    recording_beggining = data[:begin_window*sr]\n",
    "    recording_end = data[-end_window*sr:]\n",
    "    begin_onset_events = librosa.onset.onset_detect(recording_beggining, sr, delta=delta, units=\"time\")\n",
    "    end_onset_events = librosa.onset.onset_detect(recording_end, sr, delta=delta, units=\"time\")\n",
    "    if len(begin_onset_events) >= 1 and len(end_onset_events) >= 1:\n",
    "        # If there are multiple detected onsets, we just take the first one and hope for the best\n",
    "        return begin_onset_events[0], end_onset_events[0] + recording_duration - end_window\n",
    "    else:\n",
    "        return -1"
   ]
  },
  {
   "cell_type": "code",
   "execution_count": null,
   "metadata": {
    "ExecuteTime": {
     "end_time": "2019-07-14T19:22:54.219130Z",
     "start_time": "2019-07-14T19:22:54.007774Z"
    }
   },
   "outputs": [],
   "source": [
    "path = RECORDINGS/\"Record-080.wav\"\n",
    "path_str = str(path)\n",
    "filtered_path = path_str.replace(\".wav\", \".beepdetect.wav\")\n",
    "tfm.build(path_str, filtered_path)\n",
    "data, sr = load_wav(filtered_path)\n",
    "get_beep_times(data, sr)"
   ]
  },
  {
   "cell_type": "markdown",
   "metadata": {},
   "source": [
    "## Splitting into individual digits and assigning labels"
   ]
  },
  {
   "cell_type": "code",
   "execution_count": null,
   "metadata": {
    "ExecuteTime": {
     "end_time": "2019-07-14T19:24:04.250584Z",
     "start_time": "2019-07-14T19:24:04.242584Z"
    }
   },
   "outputs": [],
   "source": [
    "def process_recording(path, processed_path):\n",
    "    path_str = str(path)\n",
    "    filtered_path = path_str.replace(\".wav\", \".beepdetect.wav\")\n",
    "    tfm.build(path_str, filtered_path)\n",
    "    data, sr = load_wav(path)\n",
    "    filtered_data, sr = load_wav(filtered_path)\n",
    "    beeps = get_beep_times(data, sr)\n",
    "    if beeps == -1:\n",
    "        print(\"Couldn't get times of beeps\")\n",
    "        return -1\n",
    "    else:\n",
    "        beep_difference = beeps[1] - beeps[0]\n",
    "        digit_duration = beep_difference / 50\n",
    "        digit_duration_samples = int(digit_duration * sr)\n",
    "        # check the digit duration seems about right\n",
    "        if 1.9 < digit_duration < 2.2:\n",
    "            print(f\"Digit duration: {digit_duration}\")\n",
    "            filenames = []\n",
    "            \n",
    "            digit_breaks_samples = np.linspace(beeps[0] * sr, beeps[1] * sr, 51, dtype=np.int32)\n",
    "            for i in range(50):\n",
    "                digit_samples = data[digit_breaks_samples[i]:digit_breaks_samples[i+1]]\n",
    "                processed_path_filenames = list(processed_path.glob(\"*.wav\"))\n",
    "                if len(processed_path_filenames) == 0:\n",
    "                    digit_filename = \"000000.wav\"\n",
    "                else:\n",
    "                    digit_filename_number = int(max(processed_path_filenames).name.replace(\".wav\", \"\")) + 1\n",
    "                    digit_filename = str(digit_filename_number).zfill(6) + \".wav\"\n",
    "                librosa.output.write_wav(processed_path/digit_filename, digit_samples, sr=sr)\n",
    "                filenames.append(digit_filename)\n",
    "            return filenames\n",
    "        else:\n",
    "            print(f\"Calculated digit duration outside expected range: {digit_duration}\")\n",
    "            return -1"
   ]
  },
  {
   "cell_type": "code",
   "execution_count": null,
   "metadata": {
    "ExecuteTime": {
     "end_time": "2019-07-14T19:24:15.143948Z",
     "start_time": "2019-07-14T19:24:05.214436Z"
    },
    "scrolled": false
   },
   "outputs": [],
   "source": [
    "# Delete the previous filtered and processed files (otherwise annoying warnings)\n",
    "!rm data/audio-recordings/*.beepdetect.wav\n",
    "!rm data/processed/*.wav\n",
    "\n",
    "filenames = []\n",
    "writer_ids = []\n",
    "labels = []\n",
    "\n",
    "for i in tqdm(range(len(writers))):\n",
    "    filename, writer_name, writer_id = writers.iloc[i]\n",
    "    rec_filenames = process_recording(RECORDINGS/filename, DATA/\"processed\")\n",
    "    if rec_filenames != -1:\n",
    "        filenames += rec_filenames\n",
    "        writer_ids += [writer_id] * 50\n",
    "        labels += DIGITS_ORDER"
   ]
  },
  {
   "cell_type": "code",
   "execution_count": null,
   "metadata": {},
   "outputs": [],
   "source": [
    "valid_pct = 0.2\n",
    "valid_n = int(len(filenames) * valid_pct)\n",
    "np.random.seed(42)\n",
    "is_valid = np.random.permutation([1] * valid_n + [0] * (len(filenames) - valid_n))"
   ]
  },
  {
   "cell_type": "code",
   "execution_count": null,
   "metadata": {},
   "outputs": [],
   "source": [
    " processed_df = pd.DataFrame(np.array([filenames,\n",
    "                                       writer_ids,\n",
    "                                       labels,\n",
    "                                       is_valid]).transpose(),\n",
    "                             columns=[\"filename\",\n",
    "                                      \"writer_id\",\n",
    "                                      \"label\",\n",
    "                                      \"is_valid\"])\n",
    "processed_df.to_csv(DATA/\"labels.csv\", index=False)"
   ]
  }
 ],
 "metadata": {
  "kernelspec": {
   "display_name": "Python 3",
   "language": "python",
   "name": "python3"
  },
  "language_info": {
   "codemirror_mode": {
    "name": "ipython",
    "version": 3
   },
   "file_extension": ".py",
   "mimetype": "text/x-python",
   "name": "python",
   "nbconvert_exporter": "python",
   "pygments_lexer": "ipython3",
   "version": "3.7.6"
  },
  "varInspector": {
   "cols": {
    "lenName": 16,
    "lenType": 16,
    "lenVar": 40
   },
   "kernels_config": {
    "python": {
     "delete_cmd_postfix": "",
     "delete_cmd_prefix": "del ",
     "library": "var_list.py",
     "varRefreshCmd": "print(var_dic_list())"
    },
    "r": {
     "delete_cmd_postfix": ") ",
     "delete_cmd_prefix": "rm(",
     "library": "var_list.r",
     "varRefreshCmd": "cat(var_dic_list()) "
    }
   },
   "types_to_exclude": [
    "module",
    "function",
    "builtin_function_or_method",
    "instance",
    "_Feature"
   ],
   "window_display": false
  }
 },
 "nbformat": 4,
 "nbformat_minor": 2
}
